{
 "cells": [
  {
   "cell_type": "code",
   "execution_count": null,
   "id": "0cfbcc9a",
   "metadata": {},
   "outputs": [],
   "source": [
    "\"\"\"\n",
    "PROGRAMMING WITH PYTHON PROJECT\n",
    "TOPIC -  PYBLAS 1\n",
    "GROUP 8\n",
    "GROUP MEMBERS :\n",
    "    A ANUSHRUTH REDDY(UCSE21001)\n",
    "    P SNEHA (UCSE21022)\n",
    "    SAANVI SWAIN (UCSE21027)\n",
    "    SHUBHAM DAS (UCSE21051)\n",
    "    PRANGYA JENA (UCSE21059)\n",
    "    \n",
    "    \n",
    "PRESENTED TO Dr.Chandan Misra\n",
    "\n",
    "\"\"\""
   ]
  },
  {
   "cell_type": "code",
   "execution_count": 7,
   "id": "0cff59ab",
   "metadata": {},
   "outputs": [
    {
     "name": "stdout",
     "output_type": "stream",
     "text": [
      "Requirement already satisfied: numpy in c:\\users\\asus\\anaconda3\\lib\\site-packages (1.21.5)\n",
      "Requirement already satisfied: pyblas in c:\\users\\asus\\anaconda3\\lib\\site-packages (0.0.10)\n",
      "Note: you may need to restart the kernel to use updated packages.\n"
     ]
    }
   ],
   "source": [
    "pip install numpy pyblas"
   ]
  },
  {
   "cell_type": "code",
   "execution_count": 2,
   "id": "e216c7a5",
   "metadata": {},
   "outputs": [],
   "source": [
    "import os\n",
    "import sys\n",
    "sys.path.insert(0, os.path.abspath(os.path.join(os.path.abspath(''), \"..\", \"..\")))"
   ]
  },
  {
   "cell_type": "code",
   "execution_count": 22,
   "id": "b791b293",
   "metadata": {},
   "outputs": [],
   "source": [
    "import numpy as np\n",
    "import math\n",
    "import pyblas\n",
    "from pyblas.level1 import dswap\n",
    "from pyblas.level1 import dscal\n",
    "from pyblas.level1 import dcopy\n",
    "from pyblas.level1 import daxpy\n",
    "from pyblas.level1 import ddot\n",
    "from pyblas.level1 import dsdot\n",
    "from pyblas.level1 import dnrm2\n",
    "from pyblas.level1 import dznrm2\n",
    "from pyblas.level1 import dasum"
   ]
  },
  {
   "cell_type": "code",
   "execution_count": 23,
   "id": "3bd6f511",
   "metadata": {},
   "outputs": [
    {
     "name": "stdout",
     "output_type": "stream",
     "text": [
      "x =  [6. 7. 8.]\n",
      "y =  [1. 2. 3.]\n"
     ]
    }
   ],
   "source": [
    "# DSWAP - Swaps the contents of a vector x with a vector y\n",
    "x = np.array([1, 2, 3], dtype=np.double)\n",
    "y = np.array([6, 7, 8], dtype=np.double)\n",
    "N = len(x)\n",
    "incx = 1\n",
    "incy = 1\n",
    "dswap(N, x, incx, y, incy)\n",
    "print(\"x = \",x)\n",
    "print(\"y = \",y)"
   ]
  },
  {
   "cell_type": "code",
   "execution_count": 24,
   "id": "1810626a",
   "metadata": {},
   "outputs": [
    {
     "name": "stdout",
     "output_type": "stream",
     "text": [
      "[ 5. 10. 15.]\n"
     ]
    }
   ],
   "source": [
    "#DSCAL - Scales a vector, x, by a constant alpha\n",
    "x = np.array([1, 2, 3], dtype=np.double)\n",
    "N = len(x)\n",
    "alpha = 5\n",
    "incx = 1\n",
    "dscal(N, alpha, x, incx)\n",
    "print(x)"
   ]
  },
  {
   "cell_type": "code",
   "execution_count": 25,
   "id": "4fe34d83",
   "metadata": {},
   "outputs": [
    {
     "name": "stdout",
     "output_type": "stream",
     "text": [
      "y = [1. 2. 3.]\n"
     ]
    }
   ],
   "source": [
    "#DCOPY - Copies a vector, x, to a vector, y.\n",
    "x = np.array([1, 2, 3], dtype=np.double)\n",
    "y = np.array([6, 7, 8], dtype=np.double)\n",
    "N = len(x)\n",
    "incx = 1\n",
    "incy = 1\n",
    "dcopy(N, x, incx, y, incy)\n",
    "print(\"y =\", y)"
   ]
  },
  {
   "cell_type": "code",
   "execution_count": 26,
   "id": "ab29eff9",
   "metadata": {},
   "outputs": [
    {
     "name": "stdout",
     "output_type": "stream",
     "text": [
      "[11. 17. 23.]\n"
     ]
    }
   ],
   "source": [
    "#DAXPY - Adds a vector x times a constant alpha to a vector y\n",
    "x = np.array([1, 2, 3], dtype=np.double)\n",
    "y = np.array([6, 7, 8], dtype=np.double)\n",
    "N = len(x)\n",
    "alpha = 5\n",
    "incx = 1\n",
    "daxpy(N, alpha, x, incx, y, incy)\n",
    "print(y)"
   ]
  },
  {
   "cell_type": "code",
   "execution_count": 27,
   "id": "bcddef98",
   "metadata": {},
   "outputs": [
    {
     "name": "stdout",
     "output_type": "stream",
     "text": [
      "44.0\n"
     ]
    }
   ],
   "source": [
    "#DDOT - Computes the dot-product of a vector x and a vector y.\n",
    "x = np.array([1, 2, 3], dtype=np.double)\n",
    "y = np.array([6, 7, 8], dtype=np.double)\n",
    "N = len(x)\n",
    "incx = 1\n",
    "incy = 1\n",
    "z = ddot(N, x, incx, y, incy)\n",
    "print(z)"
   ]
  },
  {
   "cell_type": "code",
   "execution_count": 28,
   "id": "9fc16d0f",
   "metadata": {
    "scrolled": false
   },
   "outputs": [
    {
     "data": {
      "text/plain": [
       "32.0"
      ]
     },
     "execution_count": 28,
     "metadata": {},
     "output_type": "execute_result"
    }
   ],
   "source": [
    "#DSDOT - Computes the dot-product of a vector x and a vector y.\n",
    "x = np.array([1, 2, 3], dtype=np.single)\n",
    "y = np.array([4, 5, 6], dtype=np.single)\n",
    "N = len(x)\n",
    "incx = 1\n",
    "incy = 1\n",
    "dsdot(N, x, incx, y,incy)"
   ]
  },
  {
   "cell_type": "code",
   "execution_count": 29,
   "id": "25f14045",
   "metadata": {},
   "outputs": [
    {
     "name": "stdout",
     "output_type": "stream",
     "text": [
      "3.7416573867739413\n"
     ]
    }
   ],
   "source": [
    "#DNRM2 - Computes the Euclidean norm of the vector x\n",
    "x = np.array([1, 2, 3], dtype=np.double)\n",
    "N = len(x)\n",
    "incx = 1\n",
    "print(dnrm2(N, x, incx))"
   ]
  },
  {
   "cell_type": "code",
   "execution_count": 30,
   "id": "2e4c5867",
   "metadata": {},
   "outputs": [
    {
     "name": "stdout",
     "output_type": "stream",
     "text": [
      "6.5574384\n"
     ]
    }
   ],
   "source": [
    "#DZNRM2 - Computes the Euclidean norm of the vector x\n",
    "x = np.array([1+2j, 2+3j, 3+4j], dtype=np.complex64)\n",
    "N = len(x)\n",
    "incx = 1\n",
    "print(dznrm2(N, x, incx))"
   ]
  },
  {
   "cell_type": "code",
   "execution_count": 31,
   "id": "d9906829",
   "metadata": {},
   "outputs": [
    {
     "name": "stdout",
     "output_type": "stream",
     "text": [
      "[1. 2. 3. 4.]\n"
     ]
    }
   ],
   "source": [
    "#DASUM- Computes the sum of absolute values of elements of the vector x\n",
    "X = np.array([1, 2, 3 , 4], dtype=np.double)\n",
    "N = len(X)\n",
    "incx = 1\n",
    "s=dasum(N, X, incx)\n",
    "print(s)"
   ]
  },
  {
   "cell_type": "code",
   "execution_count": null,
   "id": "a193c104",
   "metadata": {},
   "outputs": [],
   "source": []
  }
 ],
 "metadata": {
  "kernelspec": {
   "display_name": "Python 3 (ipykernel)",
   "language": "python",
   "name": "python3"
  },
  "language_info": {
   "codemirror_mode": {
    "name": "ipython",
    "version": 3
   },
   "file_extension": ".py",
   "mimetype": "text/x-python",
   "name": "python",
   "nbconvert_exporter": "python",
   "pygments_lexer": "ipython3",
   "version": "3.9.13"
  }
 },
 "nbformat": 4,
 "nbformat_minor": 5
}
